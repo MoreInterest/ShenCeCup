{
 "cells": [
  {
   "cell_type": "code",
   "execution_count": 1,
   "metadata": {
    "collapsed": true
   },
   "outputs": [],
   "source": [
    "import pandas as pd\n",
    "import numpy as np\n",
    "import datetime\n",
    "import math\n",
    "import jieba\n",
    "import jieba.posseg as psg\n",
    "from gensim import corpora, models\n",
    "from jieba import analyse\n",
    "import functools\n",
    "import re\n",
    "from pyltp import SentenceSplitter\n"
   ]
  },
  {
   "cell_type": "code",
   "execution_count": 2,
   "metadata": {},
   "outputs": [
    {
     "name": "stdout",
     "output_type": "stream",
     "text": [
      "<class 'pandas.core.frame.DataFrame'>\n",
      "RangeIndex: 108295 entries, 0 to 108294\n",
      "Data columns (total 3 columns):\n",
      "id       108295 non-null object\n",
      "title    108294 non-null object\n",
      "text     108293 non-null object\n",
      "dtypes: object(3)\n",
      "memory usage: 2.5+ MB\n",
      "None\n",
      "        id                title  \\\n",
      "0  D000001   林志颖老婆深夜敷面膜，睫毛太长好吓人   \n",
      "1  D000002   小s夸杨幂身材好，杨幂回复太精彩了！   \n",
      "2  D000003    年轻时的她风华绝代，现却无人送祝福   \n",
      "3  D000004   林心如屡曝霍建华私生活被怼蹭老公人气   \n",
      "4  D000005  曾是TVB颜值担当，近照曝光发现真老了   \n",
      "\n",
      "                                                text  \n",
      "0  早年林志颖带kimi上《爸爸去哪儿》的时候，当时遮遮掩掩的林志颖老婆低调探班，总让人觉得格外...  \n",
      "1  翩若惊鸿，婉若游龙。曹植形容洛神的这两句，实在太抽象，以至于始终寻不到承受对象。直到在《大军...  \n",
      "2  上个世纪香港影视界涌现出了不少高颜值女星，在《大话西游之月光宝盒》中饰演春三十娘和蜘蛛精的蓝...  \n",
      "3  霍建华林心如1905电影网讯近日，林心如在接受采访时爆料称老公霍建华会主动向女儿索吻，笑称他...  \n",
      "4  不知道有多少人是看TVB剧集长大的，小时候我每一天晚上都会守着电视看TVB剧集的。可以说对于...  \n"
     ]
    }
   ],
   "source": [
    "all_docs_df = pd.read_csv('../../data/chusai/all_docs.txt', sep='\\001', header=None)\n",
    "all_docs_df.columns = ['id', 'title', 'text']\n",
    "print(all_docs_df.info())\n",
    "print(all_docs_df.head())\n"
   ]
  },
  {
   "cell_type": "code",
   "execution_count": 3,
   "metadata": {},
   "outputs": [
    {
     "name": "stdout",
     "output_type": "stream",
     "text": [
      "        id            keyword           keyword_list  \\\n",
      "0  D012650         三生三世,凤九,东华         [三生三世, 凤九, 东华]   \n",
      "1  D047118              南宁,美食               [南宁, 美食]   \n",
      "2  D098970             凉菜,北京人              [凉菜, 北京人]   \n",
      "3  D092010          华为,P30pro           [华为, P30pro]   \n",
      "4  D103408             酒吧,世界杯              [酒吧, 世界杯]   \n",
      "5  D103809            烧烤,人生一串             [烧烤, 人生一串]   \n",
      "6  D003823         惠若琪,杨颖,奔跑吧         [惠若琪, 杨颖, 奔跑吧]   \n",
      "7  D023499  我与你的光年距离2,王以纶,许晓诺  [我与你的光年距离2, 王以纶, 许晓诺]   \n",
      "8  D063937          无人机,军用,美军          [无人机, 军用, 美军]   \n",
      "9  D059085           女兵,剪影,欧美           [女兵, 剪影, 欧美]   \n",
      "\n",
      "                                    title  \\\n",
      "0          《三生三世》里凤九东华最有“夫妻相”，这一模一样的动作是证明   \n",
      "1        【味集】南宁美食圣地最强攻略！老南宁最爱的味道，都汇集在这些地方   \n",
      "2                  据说这些下酒凉菜，只有北京人喜欢，是这样吗？   \n",
      "3  华为新机皇P30pro曝光：麒麟1020＋5G芯片，网友：小米要拿什么来抵挡   \n",
      "4                  想在泰晤士河边餐厅酒吧看世界杯？戳进来就对啦   \n",
      "5   看完真的会饿!有人把【烧烤】拍成了纪录片,怒摘9.8高分,市井烟火气太浓~   \n",
      "6          杨颖跳高只离地10公分，被众人无情嘲笑，惠若琪：你打他牙干嘛   \n",
      "7                 《我与你的光年距离2》开机王以纶许晓诺纷纷亮相   \n",
      "8               我国军用无人机和美国差距多大？仅出口总量就差4倍多   \n",
      "9                    最喜欢哪一款：别有风情的欧美各国女兵剪影   \n",
      "\n",
      "                                                text  \n",
      "0  电视剧《三生三世十里桃花》结束了，接下来它的姊妹篇《三生三世枕上书》又要开拍了。上一部讲述的...  \n",
      "1  南宁除了中山路、农院路、建政路这几条为人熟知的美食街，还有哪里的美食街值得去？作为南宁吃货，...  \n",
      "2  不论是山珍海味还是地道小吃都非常有名。今天咱不说那些您常见的，咱聊聊家常的那就从北京人常吃爱...  \n",
      "3  去年发布的华为P20系列，相信还有很多小伙伴都记得，其强大的配置以及最强的拍照功能！刚一发布...  \n",
      "4  最近全城热议的话题就非世界杯莫属了，委员身边的朋友不管是不是球迷都在讨论世界杯，有事没事都会...  \n",
      "5  每到深夜，总有一个邪恶的声音传来：吃~夜宵~~~吃~烧烤~~~哎哟喂，就问你们是不是？！烧烤...  \n",
      "6  最新一期的《奔跑吧》伐木累家族来到了杭州，并将要和来自国内外13所高校的童鞋们来一场“国际学...  \n",
      "7  《光年2》开机仪式2018年5月26日，由芒果TV携手蓝港影业倾力打造、电影《那些年，我们一...  \n",
      "8  在商用无人机领域，以大疆为首中国无人机公司控制全球80%市场，美军也曾是中国商用无人机大客户...  \n",
      "9  如今，男性一统军营的日子已成为历史，越来越多的女子颠覆了传统的女性角色。--------在世...  \n"
     ]
    }
   ],
   "source": [
    "train_doc_keyword_df = pd.read_csv('../../data/chusai/train_docs_keywords.txt', sep='\\t', header=None)\n",
    "train_doc_keyword_df.columns = ['id', 'keyword']\n",
    "train_doc_keyword_df['keyword_list'] = train_doc_keyword_df['keyword'].map(lambda x: x.split(','))\n",
    "train_doc_keyword_df = pd.merge(train_doc_keyword_df, all_docs_df, on='id', how='left')\n",
    "print(train_doc_keyword_df.head(10))\n"
   ]
  },
  {
   "cell_type": "code",
   "execution_count": 8,
   "metadata": {},
   "outputs": [
    {
     "name": "stdout",
     "output_type": "stream",
     "text": [
      "                keyword                                title  \\\n",
      "480       乔梁,真爱的谎言之破冰者,            《真爱的谎言之破冰者》靳远套路乔梁，蔡炳坤套路逗逗   \n",
      "481             魔兽争霸,暴雪         暴雪《魔兽争霸》十五年后重置？孕育MOBA了，启蒙了电竞   \n",
      "482   手机,小米,华为,P20,荣耀10             一山难容二虎，华为小试牛刀之作，却成小米最大劲敌   \n",
      "483             刘嘉玲,娱乐圈                 刘嘉玲素颜和男友人外出游玩纤细身材超吸睛   \n",
      "484        LOL,faker,恩静    LOL：faker和恩静的前世今生恩静要结婚了，那飞科变捞的原因？   \n",
      "485    肠道炎症模型,斑马鱼,炎症性肠病                广州生物院在斑马鱼中构建出一种肠道炎症模型   \n",
      "486         烽火线,红楼梦,闵春晓                 闵春晓巾帼不让须眉突破形象出演《烽火线》   \n",
      "487         抖音,字节跳动,张一鸣                           麻烦不断抖音再被封禁   \n",
      "488        蜀山之白眉真人传,王铭铎              《蜀山之白眉真人传》杀青王铭铎虐心黑化为爱痴狂   \n",
      "489     彩虹无人机,高原作战,高原试飞           彩虹无人机集体上高原！打破中国无人机不能高原作战谬论   \n",
      "490    政变,土耳其,政变,中东,库尔德        土耳其秋后算账，对参与2016年政变人员出重拳，谴责美国！   \n",
      "491          加勒比香蕉大盗,香蕉         大B哥新作，有意思：“加勒比香蕉大盗”（已打包·可下载）   \n",
      "492         口腔异味,预防晨起口臭                   口腔异味？这五种食物帮你快速去异味!   \n",
      "493  生机无限,湖南卫视,国式老人,节约观               湖南卫视《生机无限》直击“中国式老人”节约观   \n",
      "494      黄奕,黄毅清,黄奕名誉维权案           黄奕黄毅清维权案来龙去脉！争来争去，最受伤的却是孩子   \n",
      "495  薛之谦,李小璐,我们的少年时代,吻戏        薛之谦李小璐吻戏太投入,网友调侃本色出演,吻戏薛之谦硬加的   \n",
      "496      千岁大人的初恋,宋茜,黄景瑜                《千岁大人的初恋》曝预告宋茜黄景瑜缠爱千年   \n",
      "497      李若彤,民国偶像剧,民国太太               李若彤复出演民国太太，小龙女熬成婆婆变这样了   \n",
      "498      杜特尔特,海域,菲律宾外交部             杜特尔特：中国此举并非“霸凌”美对中国也有所畏惧   \n",
      "499      园林景观,色彩原则,色彩理论                       走近园林景观设计——色彩原则   \n",
      "500           真爱的谎言之破冰者                  《真爱的谎言之破冰者》如何博得高收视？   \n",
      "501          万茜,陈坤,回归之作                          万茜，你终于熬出头了！   \n",
      "502            詹姆斯,克利夫兰                       这样的詹姆斯，你怎么舍得黑？   \n",
      "503           P2P,白领,金融                        P2P|白领怎么入场投资？   \n",
      "504     小米,小米Max3,小米Max  6.9英寸小米Max3“撞车”小米平板4,网友:两个部门可能想打倒对方   \n",
      "505        陈赫,熟悉的味道,曾小贤                   从好男人到好父亲陈赫首谈“牺牲”感悟   \n",
      "506          网络谜踪,零差评神作        零差评神作《网络谜踪》发布正式预告全网搜索寻亲真相多重反转   \n",
      "507            LOL,蔚,DC    LOL：蔚的原型是个糙汉子，露露原型最出名！而她竟是DC中的反派？   \n",
      "508        酸辣菜,酸爽,酸辣红薯粉        闻着都开胃的几道酸辣菜，酸辣十足！做法超级简单，越吃越酸爽   \n",
      "509       黄磊,张子枫,向往的生活2          黄磊看见张子枫却想起了女儿多多他还说出了很多家长的心声   \n",
      "\n",
      "                                                  text  \n",
      "480  【最走心的影视人物分析，最独特的影评剧评交流】《真爱的谎言之破冰者》里的角色都开始调皮起来。...  \n",
      "481  或许，几年后会有另外一款游戏的出现来代替它在历史上的作用，但是事实上是这款游戏成为了游戏史上...  \n",
      "482  　　华为和小米，可以说是产品系列最全的，在推出自家一系列高端产品之外，同时都还会发布一些比较...  \n",
      "483  刘嘉玲如今已经52岁了，但是还常常出现在荧幕中，每年都会有影视作品，而且各种综艺节目还有商业...  \n",
      "484  近来李哥仿佛又开始替补了，的确今年锻练的锅真的很大，算了不说了，我们聊点开心的。Faker和...  \n",
      "485  7月6日，国际学术期刊《自然-通讯》（NatureCommunications）在线发表了中...  \n",
      "486  闵春晓十多年前，一场“红楼梦中人”选秀，让神清骨秀的闵春晓脱颖而出，她在《黛玉传》中的表现获...  \n",
      "487  暗流涌动。7月3日，抖音小程序“抖音好友”被封禁，微信的理由为“小程序抖音好友由于涉嫌违反用...  \n",
      "488  由霍尔果斯中环影业和奇树有鱼携手打造，中环影业出品，演员王铭铎主演的新派仙侠电影《蜀山之白眉...  \n",
      "489  作者：虹摄库尔斯克近日，彩虹-4、彩虹-5两种大型无人机在西北某机场完成密集的夜间试飞和打靶...  \n",
      "490  　　作者：锤子　　土耳其终于出手了，而且下手不轻。5月21日，俄罗斯卫星通讯社报道称，土耳其...  \n",
      "491  提示：↑光头强的配方又来啦！一如既往的醒目耀眼之作，简单明了清晰透彻的几个小配方组成，实用性...  \n",
      "492  可以去除口腔异味的食物：1、柚子去口臭吃点西红柿、柚子、枣也能预防口臭。2、金橘去口臭金橘对...  \n",
      "493  网易娱乐5月2日报道 湖南卫视大型观察式医疗纪实节目《生机无限》热播中，精彩故事持续升温。节...  \n",
      "494  　　北京市第二中级人民法院针对黄奕诉新华网、黄毅清名誉权纠纷一案作出二审判决，依法撤销北京市...  \n",
      "495  湖南卫视播出的电视剧一直深受广大观众喜爱。最近，一部青春校园电视剧“我们的少年时代”在湖南卫...  \n",
      "496  网易娱乐5月2日报道由陈正道、许肇任联合执导、方芳任总制片人，楚飞担任制片人，宋茜、黄景瑜领...  \n",
      "497  　　近日某青春励志女性民国偶像剧定档了，但小编在演员名单中发现了小龙女李若彤的身影，网友们喜...  \n",
      "498  菲律宾渔民指控中国海警在黄岩岛海域强索渔获，菲律宾总统杜特尔特总统6月18日说这是\"以货易货...  \n",
      "499  关于色彩的运用，我相信不光光在景观方面，绘画等等很多的方面都会运用到色彩所以这里也给大家推荐...  \n",
      "500  　　《真爱的谎言之破冰者》如何守正出奇、博得高收视？　　5月13日，电视剧《真爱的谎言之破冰...  \n",
      "501  时隔九年，厂花陈坤终于重返电视荧屏，这次，他选择万茜作为回归之作的女主。不得不赞叹一句，真的...  \n",
      "502  詹姆斯今天回到了克利夫兰为自己基金会所捐赠的学校揭幕在揭幕仪式上詹姆斯发表了演讲：今天对于自...  \n",
      "503  在《兵书》中经常说，“知己知彼，百战不殆”理财就像打仗一样。只要你知道如何管理金钱，就可以制...  \n",
      "504  小米Max系列手机一直以来以大屏幕、长续航的特性，受消费者喜爱。雷军之前在微博上表示，小米M...  \n",
      "505  网易娱乐6月3日报道 《熟悉的味道》将迎来逗趣活宝陈赫。陈赫在节目中也谈到，因为初为人父，现...  \n",
      "506  由美国索尼哥伦比亚影业出品的悬疑剧情片《网络谜踪》（暂译）发布了正式预告，预告中男主角大卫·...  \n",
      "507  　　目前在召唤师峡谷中登场的英雄已经多达140多位，英雄的形象、气质和属性也是各不相同。那么...  \n",
      "508  酸辣红薯粉用料红薯粉50g；香葱适量；蒜适量；香菜适量；小米椒适量；香醋15ml；生抽20m...  \n",
      "509  　　本文首发于企鹅号，未经授权不得转载，违者必究！　　最新一期的《向往的生活2》中，黄磊的蘑...  \n"
     ]
    }
   ],
   "source": [
    "print(train_doc_keyword_df[['keyword', 'title', 'text']][480:510])\n",
    "\n"
   ]
  },
  {
   "cell_type": "code",
   "execution_count": 19,
   "metadata": {},
   "outputs": [
    {
     "name": "stdout",
     "output_type": "stream",
     "text": [
      "                                                text  \\\n",
      "0  早年林志颖带kimi上《爸爸去哪儿》的时候，当时遮遮掩掩的林志颖老婆低调探班，总让人觉得格外...   \n",
      "1  翩若惊鸿，婉若游龙。曹植形容洛神的这两句，实在太抽象，以至于始终寻不到承受对象。直到在《大军...   \n",
      "2  上个世纪香港影视界涌现出了不少高颜值女星，在《大话西游之月光宝盒》中饰演春三十娘和蜘蛛精的蓝...   \n",
      "3  霍建华林心如1905电影网讯近日，林心如在接受采访时爆料称老公霍建华会主动向女儿索吻，笑称他...   \n",
      "4  不知道有多少人是看TVB剧集长大的，小时候我每一天晚上都会守着电视看TVB剧集的。可以说对于...   \n",
      "\n",
      "                                      text_sentences  text_sentences_len  \n",
      "0  [早年林志颖带kimi上《爸爸去哪儿》的时候，当时遮遮掩掩的林志颖老婆低调探班，总让人觉得格...                  25  \n",
      "1  [翩若惊鸿，婉若游龙。, 曹植形容洛神的这两句，实在太抽象，以至于始终寻不到承受对象。, 直...                   8  \n",
      "2  [上个世纪香港影视界涌现出了不少高颜值女星，在《大话西游之月光宝盒》中饰演春三十娘和蜘蛛精的...                   7  \n",
      "3  [霍建华林心如1905电影网讯近日，林心如在接受采访时爆料称老公霍建华会主动向女儿索吻，笑称...                   9  \n",
      "4  [不知道有多少人是看TVB剧集长大的，小时候我每一天晚上都会守着电视看TVB剧集的。, 可以...                  27  \n"
     ]
    }
   ],
   "source": [
    "def get_text_sentences(text):\n",
    "    sentences_list = SentenceSplitter.split(text)\n",
    "    return sentences_list\n",
    "\n",
    "all_docs_df['text'] = all_docs_df['text'].map(lambda x: str(x))\n",
    "all_docs_df['text_sentences'] = all_docs_df['text'].map(lambda x: get_text_sentences(x))\n",
    "all_docs_df['text_sentences_len'] = all_docs_df['text_sentences'].map(lambda x: len(x))\n",
    "print(all_docs_df[['text', 'text_sentences', 'text_sentences_len']].head())\n",
    "    "
   ]
  },
  {
   "cell_type": "code",
   "execution_count": 20,
   "metadata": {},
   "outputs": [
    {
     "name": "stdout",
     "output_type": "stream",
     "text": [
      "23.561494067131445\n"
     ]
    }
   ],
   "source": [
    "print(np.mean(all_docs_df['text_sentences_len']))\n"
   ]
  },
  {
   "cell_type": "code",
   "execution_count": 22,
   "metadata": {},
   "outputs": [
    {
     "name": "stdout",
     "output_type": "stream",
     "text": [
      "                 title                                         title_text\n",
      "0   林志颖老婆深夜敷面膜，睫毛太长好吓人  林志颖老婆深夜敷面膜，睫毛太长好吓人。林志颖老婆深夜敷面膜，睫毛太长好吓人。林志颖老婆深夜敷...\n",
      "1   小s夸杨幂身材好，杨幂回复太精彩了！  小s夸杨幂身材好，杨幂回复太精彩了！。小s夸杨幂身材好，杨幂回复太精彩了！。小s夸杨幂身材好...\n",
      "2    年轻时的她风华绝代，现却无人送祝福  年轻时的她风华绝代，现却无人送祝福。年轻时的她风华绝代，现却无人送祝福。年轻时的她风华绝代，...\n",
      "3   林心如屡曝霍建华私生活被怼蹭老公人气  林心如屡曝霍建华私生活被怼蹭老公人气。林心如屡曝霍建华私生活被怼蹭老公人气。林心如屡曝霍建华...\n",
      "4  曾是TVB颜值担当，近照曝光发现真老了  曾是TVB颜值担当，近照曝光发现真老了。曾是TVB颜值担当，近照曝光发现真老了。曾是TVB颜...\n"
     ]
    }
   ],
   "source": [
    "def get_title_text(all_docs_df):\n",
    "    temp_df = pd.DataFrame(columns=['id', 'title_text'])\n",
    "    for temp_id, title, text, text_sentences_len in all_docs_df[['id', 'title', 'text', 'text_sentences_len']].values:\n",
    "        length = math.ceil(text_sentences_len / 2)\n",
    "        title_text = ''\n",
    "        for i in range(length):\n",
    "            title_text = title + '。' + title_text\n",
    "        title_text = title_text + text\n",
    "        temp = pd.DataFrame([[temp_id, title_text]], columns=['id', 'title_text'])\n",
    "        temp_df = pd.concat([temp_df, temp])\n",
    "    all_docs_df = pd.merge(all_docs_df, temp_df, on='id', how='left')\n",
    "    return all_docs_df\n",
    "\n",
    "all_docs_df['title'] = all_docs_df['title'].astype(str)\n",
    "all_docs_df['text'] = all_docs_df['text'].astype(str)\n",
    "all_docs_df = get_title_text(all_docs_df)\n",
    "print(all_docs_df[['title', 'title_text']].head())\n",
    "\n",
    "    \n",
    "    "
   ]
  },
  {
   "cell_type": "code",
   "execution_count": 14,
   "metadata": {},
   "outputs": [
    {
     "name": "stdout",
     "output_type": "stream",
     "text": [
      "True\n",
      "True\n"
     ]
    }
   ],
   "source": [
    "def is_contain_alpha(x):\n",
    "    my_re = re.compile(r'[A-Za-z]',re.S)\n",
    "    res = re.findall(my_re,x)\n",
    "    if len(res):\n",
    "        return True\n",
    "    else:\n",
    "        return False\n",
    "\n",
    "string1 = '123s'\n",
    "string2 = '应该，步子到，kds123'\n",
    "print(is_contain_alpha(string1))\n",
    "print(is_contain_alpha(string2))\n"
   ]
  },
  {
   "cell_type": "code",
   "execution_count": null,
   "metadata": {
    "collapsed": true
   },
   "outputs": [],
   "source": []
  }
 ],
 "metadata": {
  "kernelspec": {
   "display_name": "Python 3",
   "language": "python",
   "name": "python3"
  },
  "language_info": {
   "codemirror_mode": {
    "name": "ipython",
    "version": 3
   },
   "file_extension": ".py",
   "mimetype": "text/x-python",
   "name": "python",
   "nbconvert_exporter": "python",
   "pygments_lexer": "ipython3",
   "version": "3.6.1"
  }
 },
 "nbformat": 4,
 "nbformat_minor": 2
}
