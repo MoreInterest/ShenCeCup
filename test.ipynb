{
 "cells": [
  {
   "cell_type": "code",
   "execution_count": 1,
   "metadata": {
    "collapsed": true
   },
   "outputs": [],
   "source": [
    "import pandas as pd\n",
    "import numpy as np\n",
    "import datetime\n",
    "import math\n",
    "from gensim import corpora, models\n",
    "from pyltp import SentenceSplitter\n",
    "import functools\n",
    "import os\n",
    "from pyltp import Segmentor\n",
    "from pyltp import Postagger\n",
    "import jieba\n",
    "import jieba.posseg as psg\n",
    "from jieba import analyse\n",
    "import re"
   ]
  },
  {
   "cell_type": "code",
   "execution_count": 3,
   "metadata": {},
   "outputs": [
    {
     "name": "stdout",
     "output_type": "stream",
     "text": [
      "107295\n",
      "107110\n",
      "106832\n"
     ]
    }
   ],
   "source": [
    "final_df = pd.read_csv('../../result/chusai/tfidf_tijiao.csv')\n",
    "real_df = pd.read_csv('../../code/final/tfidf_final.csv')\n",
    "final_df['xianshang_label1'] = real_df['label1']\n",
    "final_df['xianshang_label2'] = real_df['label2']\n",
    "print(len(final_df))\n",
    "final_df['label1_true'] = (final_df['label1'] == final_df['xianshang_label1'])\n",
    "final_df['label2_true'] = (final_df['label2'] == final_df['xianshang_label2'])\n",
    "print(len(final_df[final_df.label1_true == True]))\n",
    "print(len(final_df[final_df.label2_true == True]))\n"
   ]
  },
  {
   "cell_type": "code",
   "execution_count": null,
   "metadata": {
    "collapsed": true
   },
   "outputs": [],
   "source": []
  }
 ],
 "metadata": {
  "kernelspec": {
   "display_name": "Python 3",
   "language": "python",
   "name": "python3"
  },
  "language_info": {
   "codemirror_mode": {
    "name": "ipython",
    "version": 3
   },
   "file_extension": ".py",
   "mimetype": "text/x-python",
   "name": "python",
   "nbconvert_exporter": "python",
   "pygments_lexer": "ipython3",
   "version": "3.6.1"
  }
 },
 "nbformat": 4,
 "nbformat_minor": 2
}
