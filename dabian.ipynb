{
 "cells": [
  {
   "cell_type": "code",
   "execution_count": 1,
   "metadata": {
    "collapsed": true
   },
   "outputs": [],
   "source": [
    "import pandas as pd\n",
    "import numpy as np\n",
    "import datetime\n",
    "import math\n",
    "from gensim import corpora, models\n",
    "from pyltp import SentenceSplitter\n",
    "import functools\n",
    "import os\n",
    "from pyltp import Segmentor\n",
    "from pyltp import Postagger\n",
    "import jieba\n",
    "import jieba.posseg as psg\n",
    "from jieba import analyse\n",
    "import re\n",
    "import seaborn as sns\n",
    "from matplotlib import pyplot as plt\n"
   ]
  },
  {
   "cell_type": "code",
   "execution_count": 2,
   "metadata": {
    "scrolled": true
   },
   "outputs": [
    {
     "name": "stdout",
     "output_type": "stream",
     "text": [
      "<class 'pandas.core.frame.DataFrame'>\n",
      "RangeIndex: 108295 entries, 0 to 108294\n",
      "Data columns (total 3 columns):\n",
      "id       108295 non-null object\n",
      "title    108295 non-null object\n",
      "text     108295 non-null object\n",
      "dtypes: object(3)\n",
      "memory usage: 2.5+ MB\n",
      "None\n",
      "        id                title  \\\n",
      "0  D000001   林志颖老婆深夜敷面膜，睫毛太长好吓人   \n",
      "1  D000002   小s夸杨幂身材好，杨幂回复太精彩了！   \n",
      "2  D000003    年轻时的她风华绝代，现却无人送祝福   \n",
      "3  D000004   林心如屡曝霍建华私生活被怼蹭老公人气   \n",
      "4  D000005  曾是TVB颜值担当，近照曝光发现真老了   \n",
      "\n",
      "                                                text  \n",
      "0  早年林志颖带kimi上《爸爸去哪儿》的时候，当时遮遮掩掩的林志颖老婆低调探班，总让人觉得格外...  \n",
      "1  翩若惊鸿，婉若游龙。曹植形容洛神的这两句，实在太抽象，以至于始终寻不到承受对象。直到在《大军...  \n",
      "2  上个世纪香港影视界涌现出了不少高颜值女星，在《大话西游之月光宝盒》中饰演春三十娘和蜘蛛精的蓝...  \n",
      "3  霍建华林心如1905电影网讯近日，林心如在接受采访时爆料称老公霍建华会主动向女儿索吻，笑称他...  \n",
      "4  不知道有多少人是看TVB剧集长大的，小时候我每一天晚上都会守着电视看TVB剧集的。可以说对于...  \n"
     ]
    }
   ],
   "source": [
    "all_docs_df = pd.read_csv('../../data/chusai/all_docs.txt', sep='\\001', header=None)\n",
    "all_docs_df.columns = ['id', 'title', 'text']\n",
    "all_docs_df['title'] = all_docs_df['title'].astype(str)\n",
    "all_docs_df['text'] = all_docs_df['text'].astype(str)\n",
    "print(all_docs_df.info())\n",
    "print(all_docs_df.head())\n"
   ]
  },
  {
   "cell_type": "code",
   "execution_count": 3,
   "metadata": {
    "scrolled": true
   },
   "outputs": [
    {
     "name": "stdout",
     "output_type": "stream",
     "text": [
      "         id             keyword             keyword_list\n",
      "0   D012650          三生三世,凤九,东华           [三生三世, 凤九, 东华]\n",
      "1   D047118               南宁,美食                 [南宁, 美食]\n",
      "2   D098970              凉菜,北京人                [凉菜, 北京人]\n",
      "3   D092010           华为,P30pro             [华为, P30pro]\n",
      "4   D103408              酒吧,世界杯                [酒吧, 世界杯]\n",
      "5   D103809             烧烤,人生一串               [烧烤, 人生一串]\n",
      "6   D003823          惠若琪,杨颖,奔跑吧           [惠若琪, 杨颖, 奔跑吧]\n",
      "7   D023499   我与你的光年距离2,王以纶,许晓诺    [我与你的光年距离2, 王以纶, 许晓诺]\n",
      "8   D063937           无人机,军用,美军            [无人机, 军用, 美军]\n",
      "9   D059085            女兵,剪影,欧美             [女兵, 剪影, 欧美]\n",
      "10  D045459         增肌,器械,哑铃,杠铃         [增肌, 器械, 哑铃, 杠铃]\n",
      "11  D069093         支教,艺术,乡村,儿童         [支教, 艺术, 乡村, 儿童]\n",
      "12  D082165             第三世界,游戏               [第三世界, 游戏]\n",
      "13  D071067               蛋糕,宝宝                 [蛋糕, 宝宝]\n",
      "14  D004539         纪念品,蒂尔达·斯文顿           [纪念品, 蒂尔达·斯文顿]\n",
      "15  D057452        叙利亚,俄罗斯,S300         [叙利亚, 俄罗斯, S300]\n",
      "16  D008361               王源,微博                 [王源, 微博]\n",
      "17  D056561          美国,战斧,巡航导弹           [美国, 战斧, 巡航导弹]\n",
      "18  D088615            黄子韬,糖果手机              [黄子韬, 糖果手机]\n",
      "19  D087839              装修,实战经                [装修, 实战经]\n",
      "20  D105525               茄子,家常                 [茄子, 家常]\n",
      "21  D088954  倪光南,芯片,操作系统,Wintel  [倪光南, 芯片, 操作系统, Wintel]\n",
      "22  D049827              高血压,吃肉                [高血压, 吃肉]\n",
      "23  D071661               照片,拍法                 [照片, 拍法]\n",
      "24  D032085           扶摇,楚乔传,杨幂            [扶摇, 楚乔传, 杨幂]\n",
      "25  D077124      时尚,穿搭,AndrewGn       [时尚, 穿搭, AndrewGn]\n",
      "26  D050297            减肥,按摩,脚底             [减肥, 按摩, 脚底]\n",
      "27  D040450              哈勒普,小威                [哈勒普, 小威]\n",
      "28  D090693              微信,支付宝                [微信, 支付宝]\n",
      "29  D085341           装修,卫生间,地漏            [装修, 卫生间, 地漏]\n"
     ]
    }
   ],
   "source": [
    "train_doc_keyword_df = pd.read_csv('../../data/chusai/train_docs_keywords.txt', sep='\\t', header=None)\n",
    "train_doc_keyword_df.columns = ['id', 'keyword']\n",
    "train_doc_keyword_df['keyword_list'] = train_doc_keyword_df['keyword'].map(lambda x: x.split(','))\n",
    "print(train_doc_keyword_df.head(30))\n"
   ]
  },
  {
   "cell_type": "code",
   "execution_count": 4,
   "metadata": {},
   "outputs": [
    {
     "name": "stderr",
     "output_type": "stream",
     "text": [
      "Building prefix dict from the default dictionary ...\n",
      "Loading model from cache /tmp/jieba.cache\n",
      "Dumping model to file cache /tmp/jieba.cache\n",
      "Dump cache file failed.\n",
      "Traceback (most recent call last):\n",
      "  File \"/home/lab-zhao.yinhu/anaconda3/lib/python3.6/site-packages/jieba/__init__.py\", line 152, in initialize\n",
      "    _replace_file(fpath, cache_file)\n",
      "PermissionError: [Errno 1] Operation not permitted: '/tmp/tmpu4hvk5gt' -> '/tmp/jieba.cache'\n",
      "Loading model cost 1.283 seconds.\n",
      "Prefix dict has been built succesfully.\n"
     ]
    }
   ],
   "source": [
    "# #给jieba添加自定义词\n",
    "# for keyword_list in train_doc_keyword_df['keyword_list']:\n",
    "#     for keyword in keyword_list:\n",
    "#         jieba.add_word(keyword)\n",
    "\n",
    "jieba.load_userdict('user_dict.txt')\n",
    "\n"
   ]
  },
  {
   "cell_type": "code",
   "execution_count": 5,
   "metadata": {
    "collapsed": true
   },
   "outputs": [],
   "source": [
    "LTP_DATA_DIR = '../../ltp/ltp_data_v3.4.0/'  # ltp模型目录的路径\n",
    "cws_model_path = os.path.join(LTP_DATA_DIR, 'cws.model')  # 分词模型路径，模型名称为`cws.model`\n",
    "segmentor = Segmentor()  # 初始化实例\n",
    "segmentor.load(cws_model_path)  # 加载模型\n",
    "\n",
    "pos_model_path = os.path.join(LTP_DATA_DIR, 'pos.model')  # 词性标注模型路径，模型名称为`pos.model`\n",
    "postagger = Postagger() # 初始化实例\n",
    "postagger.load(pos_model_path)  # 加载模型\n"
   ]
  },
  {
   "cell_type": "code",
   "execution_count": 6,
   "metadata": {
    "collapsed": true
   },
   "outputs": [],
   "source": [
    "#停用词表加载方法\n",
    "def get_stopword_list():\n",
    "    #停用词表存储路径，每一行为一个词，按行读取进行加载\n",
    "    #进行编码转换确保匹配准确率\n",
    "    stop_word_path = '../stopword.txt'\n",
    "    stop_word_list = [sw.replace('\\n', '') for sw in open(stop_word_path).readlines()]\n",
    "    return stop_word_list\n",
    "\n",
    "#分词方法，调用结巴接口\n",
    "def jieba_seg_to_list(sentence, pos=False):\n",
    "    if not pos:\n",
    "        #不进行词性标注的分词方法\n",
    "        seg_list = jieba.cut(sentence)\n",
    "    else:\n",
    "        #进行词性标注的分词方法\n",
    "        seg_list = psg.cut(sentence)\n",
    "    return seg_list\n",
    "\n",
    "#去除干扰词\n",
    "def jieba_word_filter(seg_list, stopword_list, pos=False):\n",
    "    \n",
    "    filter_list = []\n",
    "    #根据pos参数选择是否词性过滤\n",
    "    #不进行词性过滤，则将词性都标记为n，表示全部保留\n",
    "    for seg in seg_list:\n",
    "        if not pos:\n",
    "            word = seg\n",
    "            flag = 'n'\n",
    "        else:\n",
    "            word = seg.word\n",
    "            flag = seg.flag\n",
    "        if not flag.startswith('n'):\n",
    "            continue\n",
    "        #过滤高停用词表中的词，以及长度为<2的词\n",
    "        if not word in stopword_list and len(word) > 1:\n",
    "            filter_list.append(word)\n",
    "    \n",
    "    return filter_list\n",
    "\n",
    "def jieba_word_deal(sentence, stopword_list, pos=False):\n",
    "    #调用上面方式对数据集进行处理，处理后的每条数据仅保留非干扰词\n",
    "    seg_list = jieba_seg_to_list(sentence, pos)\n",
    "    filter_list = jieba_word_filter(seg_list, stopword_list, pos)\n",
    "    return filter_list\n",
    "\n",
    "def jieba_title_word_n(sentence, stopword_list):\n",
    "    #调用上面方式对数据集进行处理，处理后的每条数据仅保留非干扰词\n",
    "    seg_list = jieba_seg_to_list(sentence, True)\n",
    "    title_word_n_list = []\n",
    "    for seg in seg_list:\n",
    "        word = seg.word\n",
    "        flag = seg.flag\n",
    "        if flag.startswith('n'):\n",
    "            title_word_n_list.append(word)\n",
    "    return title_word_n_list\n",
    "\n",
    "#分词方法，调用ltp接口\n",
    "def ltp_seg_to_list(sentence):\n",
    "    words = segmentor.segment(sentence)  # 分词\n",
    "    seg_list = list(words)\n",
    "    return seg_list\n",
    "\n",
    "#去除干扰词\n",
    "def ltp_word_filter(seg_list, stopword_list):\n",
    "    \n",
    "    filter_list = []\n",
    "    #根据pos参数选择是否词性过滤\n",
    "    #不进行词性过滤，则将词性都标记为n，表示全部保留\n",
    "    for seg in seg_list:\n",
    "        #过滤高停用词表中的词，以及长度为<2的词\n",
    "        if not seg in stopword_list and len(seg) > 1:\n",
    "            filter_list.append(seg)\n",
    "    \n",
    "    return filter_list\n",
    "\n",
    "def ltp_word_deal(sentence, stopword_list):\n",
    "    #调用上面方式对数据集进行处理，处理后的每条数据仅保留非干扰词\n",
    "    seg_list = ltp_seg_to_list(sentence)\n",
    "    filter_list = ltp_word_filter(seg_list, stopword_list)\n",
    "    return filter_list\n",
    "\n",
    "def get_title_person_name(title_list):\n",
    "    attributes_list = list(postagger.postag(title_list))\n",
    "    title_person_name_list = list()\n",
    "    i = 0\n",
    "    for attributes in attributes_list:\n",
    "        if attributes == 'nh':\n",
    "            title_person_name_list.append(title_list[i])\n",
    "        i = i + 1\n",
    "    return title_person_name_list\n",
    "\n",
    "def get_text_sentences(text):\n",
    "    sentences_list = SentenceSplitter.split(text)\n",
    "    return sentences_list\n",
    "\n",
    "def get_title_text(all_docs_df):\n",
    "    temp_df = pd.DataFrame(columns=['id', 'title_text'])\n",
    "    for temp_id, title, text, text_sentences_len in all_docs_df[['id', 'title', 'text', 'text_sentences_len']].values:\n",
    "        length = math.ceil(text_sentences_len * 0.4)\n",
    "        if length < 6:\n",
    "            length = 6\n",
    "        title_text = ''\n",
    "        for i in range(length):\n",
    "            title_text = title + '。' + title_text\n",
    "        title_text = title_text + text\n",
    "        temp = pd.DataFrame([[temp_id, title_text]], columns=['id', 'title_text'])\n",
    "        temp_df = pd.concat([temp_df, temp])\n",
    "    all_docs_df = pd.merge(all_docs_df, temp_df, on='id', how='left')\n",
    "    return all_docs_df\n",
    "\n"
   ]
  },
  {
   "cell_type": "code",
   "execution_count": 7,
   "metadata": {
    "collapsed": true
   },
   "outputs": [],
   "source": [
    "all_docs_df['text_sentences'] = all_docs_df['text'].map(lambda x: get_text_sentences(x))\n",
    "all_docs_df['text_sentences_len'] = all_docs_df['text_sentences'].map(lambda x: len(x))\n",
    "\n",
    "stopword_list = get_stopword_list()\n",
    "all_docs_df['jieba_title_list'] = all_docs_df['title'].map(lambda x : jieba_word_deal(x, stopword_list, False))\n",
    "all_docs_df['jieba_title_word_n_list'] = all_docs_df['title'].map(lambda x : jieba_title_word_n(x, stopword_list))\n",
    "all_docs_df['ltp_title_list'] = all_docs_df['title'].map(lambda x : ltp_word_deal(x, stopword_list))\n",
    "\n",
    "all_docs_df['jieba_title_person_name_list'] = all_docs_df['jieba_title_list'].map(lambda x: get_title_person_name(x))\n",
    "all_docs_df['ltp_title_person_name_list'] = all_docs_df['ltp_title_list'].map(lambda x: get_title_person_name(x))\n",
    "\n",
    "\n"
   ]
  },
  {
   "cell_type": "code",
   "execution_count": 8,
   "metadata": {
    "scrolled": true
   },
   "outputs": [
    {
     "name": "stdout",
     "output_type": "stream",
     "text": [
      "        id     keyword    keyword_list  \\\n",
      "0  D012650  三生三世,凤九,东华  [三生三世, 凤九, 东华]   \n",
      "1  D047118       南宁,美食        [南宁, 美食]   \n",
      "2  D098970      凉菜,北京人       [凉菜, 北京人]   \n",
      "3  D092010   华为,P30pro    [华为, P30pro]   \n",
      "4  D103408      酒吧,世界杯       [酒吧, 世界杯]   \n",
      "\n",
      "                                    title  \\\n",
      "0          《三生三世》里凤九东华最有“夫妻相”，这一模一样的动作是证明   \n",
      "1        【味集】南宁美食圣地最强攻略！老南宁最爱的味道，都汇集在这些地方   \n",
      "2                  据说这些下酒凉菜，只有北京人喜欢，是这样吗？   \n",
      "3  华为新机皇P30pro曝光：麒麟1020＋5G芯片，网友：小米要拿什么来抵挡   \n",
      "4                  想在泰晤士河边餐厅酒吧看世界杯？戳进来就对啦   \n",
      "\n",
      "                                                text  \\\n",
      "0  电视剧《三生三世十里桃花》结束了，接下来它的姊妹篇《三生三世枕上书》又要开拍了。上一部讲述的...   \n",
      "1  南宁除了中山路、农院路、建政路这几条为人熟知的美食街，还有哪里的美食街值得去？作为南宁吃货，...   \n",
      "2  不论是山珍海味还是地道小吃都非常有名。今天咱不说那些您常见的，咱聊聊家常的那就从北京人常吃爱...   \n",
      "3  去年发布的华为P20系列，相信还有很多小伙伴都记得，其强大的配置以及最强的拍照功能！刚一发布...   \n",
      "4  最近全城热议的话题就非世界杯莫属了，委员身边的朋友不管是不是球迷都在讨论世界杯，有事没事都会...   \n",
      "\n",
      "                                      text_sentences  text_sentences_len  \\\n",
      "0  [电视剧《三生三世十里桃花》结束了，接下来它的姊妹篇《三生三世枕上书》又要开拍了。, 上一部...                  20   \n",
      "1  [南宁除了中山路、农院路、建政路这几条为人熟知的美食街，还有哪里的美食街值得去？, 作为南宁...                  96   \n",
      "2  [不论是山珍海味还是地道小吃都非常有名。, 今天咱不说那些您常见的，咱聊聊家常的那就从北京人...                  66   \n",
      "3  [去年发布的华为P20系列，相信还有很多小伙伴都记得，其强大的配置以及最强的拍照功能！, 刚...                  18   \n",
      "4  [最近全城热议的话题就非世界杯莫属了，委员身边的朋友不管是不是球迷都在讨论世界杯，有事没事都...                   3   \n",
      "\n",
      "                                    jieba_title_list  \\\n",
      "0               [三生三世, 凤九, 东华, 最有, 夫妻, 一模一样, 动作, 证明]   \n",
      "1         [味集, 南宁, 美食, 圣地, 最强, 攻略, 南宁, 爱的味道, 汇集, 地方]   \n",
      "2                        [据说, 下酒, 凉菜, 北京人, 喜欢, 是这样吗]   \n",
      "3  [华为, 新机, P30pro, 曝光, 麒麟, 1020, 5G, 芯片, 网友, 小米,...   \n",
      "4                            [泰晤士河, 餐厅, 酒吧, 世界杯, 进来]   \n",
      "\n",
      "           jieba_title_word_n_list  \\\n",
      "0                 [东华, 夫妻, 动作, 证明]   \n",
      "1         [味集, 南宁, 美食, 圣地, 南宁, 地方]   \n",
      "2                             [凉菜]   \n",
      "3  [华为, 新机, 皇, 曝光, 麒麟, 芯片, 网友, 小米]   \n",
      "4              [泰晤士河, 餐厅, 酒吧, 世界杯]   \n",
      "\n",
      "                                      ltp_title_list  \\\n",
      "0                     [三生, 凤九, 东华, 夫妻, 一模一样, 动作, 证明]   \n",
      "1               [味集, 南宁, 美食, 圣地, 攻略, 南宁, 味道, 汇集, 地方]   \n",
      "2                                   [据说, 凉菜, 北京, 喜欢]   \n",
      "3  [华为, 新机皇, P30pro, 曝光, 麒麟, 1020, 5G, 芯片, 网友, 小米...   \n",
      "4                            [泰晤士河, 餐厅, 酒吧, 世界杯, 进来]   \n",
      "\n",
      "  jieba_title_person_name_list ltp_title_person_name_list  \n",
      "0                           []                         []  \n",
      "1                           []                         []  \n",
      "2                           []                         []  \n",
      "3                           []                         []  \n",
      "4                           []                         []  \n"
     ]
    }
   ],
   "source": [
    "train_doc_keyword_df = pd.merge(train_doc_keyword_df, all_docs_df, on='id', how='left')\n",
    "print(train_doc_keyword_df.head())\n",
    "\n"
   ]
  },
  {
   "cell_type": "code",
   "execution_count": 10,
   "metadata": {},
   "outputs": [
    {
     "name": "stdout",
     "output_type": "stream",
     "text": [
      "                                    title show_list\n",
      "0          《三生三世》里凤九东华最有“夫妻相”，这一模一样的动作是证明    [三生三世]\n",
      "1        【味集】南宁美食圣地最强攻略！老南宁最爱的味道，都汇集在这些地方        []\n",
      "2                  据说这些下酒凉菜，只有北京人喜欢，是这样吗？        []\n",
      "3  华为新机皇P30pro曝光：麒麟1020＋5G芯片，网友：小米要拿什么来抵挡        []\n",
      "4                  想在泰晤士河边餐厅酒吧看世界杯？戳进来就对啦        []\n"
     ]
    }
   ],
   "source": [
    "train_doc_keyword_df['show_list'] = train_doc_keyword_df['title'].map(lambda x : re.findall(r\"《(.+?)》\", x))\n",
    "print(train_doc_keyword_df[['title', 'show_list']].head())\n"
   ]
  },
  {
   "cell_type": "code",
   "execution_count": 11,
   "metadata": {
    "collapsed": true
   },
   "outputs": [],
   "source": [
    "temp_df = pd.DataFrame(columns=['id', 'title_count', 'show_count'])\n",
    "for instance_id, jieba_title_list, keyword_list, show_list in train_doc_keyword_df[['id', 'jieba_title_list', 'keyword_list', 'show_list']].values:\n",
    "    title_count = 0\n",
    "    show_count = 0\n",
    "    for keyword in keyword_list:\n",
    "        if keyword in jieba_title_list:\n",
    "            title_count = title_count + 1\n",
    "    if len(show_list) == 0:\n",
    "        show_count = -1\n",
    "    else:\n",
    "        for show in show_list:\n",
    "            if show in keyword_list:\n",
    "                show_count = show_count + 1\n",
    "    temp = pd.DataFrame([[instance_id, title_count, show_count]], columns=['id', 'title_count', 'show_count'])\n",
    "    temp_df = pd.concat([temp_df, temp])\n",
    "\n"
   ]
  },
  {
   "cell_type": "code",
   "execution_count": 20,
   "metadata": {},
   "outputs": [
    {
     "name": "stdout",
     "output_type": "stream",
     "text": [
      "   title_count  count\n",
      "0            0     19\n",
      "1            1    186\n",
      "2            2    394\n",
      "3            3    259\n",
      "4            4    119\n",
      "5            5     21\n",
      "6            6      2\n"
     ]
    }
   ],
   "source": [
    "title_pivot_table = pd.pivot_table(temp_df, index='title_count', values='id', aggfunc=len)\n",
    "title_pivot_table.reset_index(inplace=True)\n",
    "title_pivot_table.rename(columns={'id' : 'count'}, inplace=True)\n",
    "print(title_pivot_table)\n",
    "\n"
   ]
  },
  {
   "cell_type": "code",
   "execution_count": 24,
   "metadata": {},
   "outputs": [
    {
     "name": "stderr",
     "output_type": "stream",
     "text": [
      "/home/lab-zhao.yinhu/anaconda3/lib/python3.6/site-packages/matplotlib/font_manager.py:1297: UserWarning: findfont: Font family ['sans-serif'] not found. Falling back to DejaVu Sans\n",
      "  (prop.get_family(), self.defaultFamily[fontext]))\n"
     ]
    },
    {
     "data": {
      "image/png": "[encoded data removed]",
      "text/plain": [
       "<matplotlib.figure.Figure at 0x7f4dd2889080>"
      ]
     },
     "metadata": {},
     "output_type": "display_data"
    }
   ],
   "source": [
    "sns.barplot(x='title_count', y='count', data=title_pivot_table, color = \"red\")\n",
    "plt.show()\n"
   ]
  },
  {
   "cell_type": "code",
   "execution_count": 25,
   "metadata": {},
   "outputs": [
    {
     "name": "stdout",
     "output_type": "stream",
     "text": [
      "   show_count  count\n",
      "0          -1    825\n",
      "1           0      3\n",
      "2           1    165\n",
      "3           2      7\n"
     ]
    }
   ],
   "source": [
    "show_pivot_table = pd.pivot_table(temp_df, index='show_count', values='id', aggfunc=len)\n",
    "show_pivot_table.reset_index(inplace=True)\n",
    "show_pivot_table.rename(columns={'id' : 'count'}, inplace=True)\n",
    "print(show_pivot_table)\n"
   ]
  },
  {
   "cell_type": "code",
   "execution_count": 28,
   "metadata": {},
   "outputs": [
    {
     "name": "stderr",
     "output_type": "stream",
     "text": [
      "/home/lab-zhao.yinhu/anaconda3/lib/python3.6/site-packages/matplotlib/font_manager.py:1297: UserWarning: findfont: Font family ['sans-serif'] not found. Falling back to DejaVu Sans\n",
      "  (prop.get_family(), self.defaultFamily[fontext]))\n"
     ]
    },
    {
     "data": {
      "image/png": "[encoded data removed]",
      "text/plain": [
       "<matplotlib.figure.Figure at 0x7f4dc0d44f60>"
      ]
     },
     "metadata": {},
     "output_type": "display_data"
    }
   ],
   "source": [
    "sns.barplot(x='show_count', y='count', data=show_pivot_table, color = \"blue\")\n",
    "plt.show()\n"
   ]
  },
  {
   "cell_type": "code",
   "execution_count": 30,
   "metadata": {},
   "outputs": [
    {
     "name": "stdout",
     "output_type": "stream",
     "text": [
      "                                     title             keyword_list\n",
      "0           《三生三世》里凤九东华最有“夫妻相”，这一模一样的动作是证明           [三生三世, 凤九, 东华]\n",
      "1         【味集】南宁美食圣地最强攻略！老南宁最爱的味道，都汇集在这些地方                 [南宁, 美食]\n",
      "2                   据说这些下酒凉菜，只有北京人喜欢，是这样吗？                [凉菜, 北京人]\n",
      "3   华为新机皇P30pro曝光：麒麟1020＋5G芯片，网友：小米要拿什么来抵挡             [华为, P30pro]\n",
      "4                   想在泰晤士河边餐厅酒吧看世界杯？戳进来就对啦                [酒吧, 世界杯]\n",
      "5    看完真的会饿!有人把【烧烤】拍成了纪录片,怒摘9.8高分,市井烟火气太浓~               [烧烤, 人生一串]\n",
      "6           杨颖跳高只离地10公分，被众人无情嘲笑，惠若琪：你打他牙干嘛           [惠若琪, 杨颖, 奔跑吧]\n",
      "7                  《我与你的光年距离2》开机王以纶许晓诺纷纷亮相    [我与你的光年距离2, 王以纶, 许晓诺]\n",
      "8                我国军用无人机和美国差距多大？仅出口总量就差4倍多            [无人机, 军用, 美军]\n",
      "9                     最喜欢哪一款：别有风情的欧美各国女兵剪影             [女兵, 剪影, 欧美]\n",
      "10                    哑铃杠铃的4个动作，简单器械助你增肌入门         [增肌, 器械, 哑铃, 杠铃]\n",
      "11               艺术支教进乡村:让每一个儿童都享受到艺术带来的快乐         [支教, 艺术, 乡村, 儿童]\n",
      "12              低价外包、外资抵触——第三世界的游戏产业依旧长路漫漫               [第三世界, 游戏]\n",
      "13           最合适宝宝吃的水果蛋糕，低糖低油高营养，手残党也能一学就会                 [蛋糕, 宝宝]\n",
      "14                   《纪念品》首曝海报蒂尔达·斯文顿与女儿合作           [纪念品, 蒂尔达·斯文顿]\n",
      "15           叙利亚彻底无奈：说好的S300突然不卖了？俄罗斯为何反悔？         [叙利亚, 俄罗斯, S300]\n",
      "16             王源最近是中了这个词的“魔咒”吗？时不时就······                 [王源, 微博]\n",
      "17                   因为这个原因，美国决定弃用“战斧”巡航导弹           [美国, 战斧, 巡航导弹]\n",
      "18        “AI翻译官”黄子韬出席助阵，全球首部翻译手机糖果S20将揭面纱              [黄子韬, 糖果手机]\n",
      "19        住新房1年半，死磕到天亮，整理出20条装修实战经：不足+先见之明                [装修, 实战经]\n",
      "20           夏天，当属茄子最下饭了，分享8道家常茄子的做法，简单容易学                 [茄子, 家常]\n",
      "21                  倪光南：Wintel已衰落国产替代切实可行！  [倪光南, 芯片, 操作系统, Wintel]\n",
      "22              高血压能不能吃肉？最新医学发现，只要吃这3种肉就没事                [高血压, 吃肉]\n",
      "23                          日常的照片有什么新鲜的拍法？                 [照片, 拍法]\n",
      "24              《扶摇》和《楚乔传》究竟有多相似看看这些你就明白了！            [扶摇, 楚乔传, 杨幂]\n",
      "25          秀场篇-带你看AndrewGn秀，时尚元素帮你点亮日常穿搭！       [时尚, 穿搭, AndrewGn]\n",
      "26                           想减肥？3招按摩方法可搞定             [减肥, 按摩, 脚底]\n",
      "27                  哈勒普：小威回归是网坛幸事心态已成熟盼取佳绩                [哈勒普, 小威]\n",
      "28                  微信支付免费时代终结继续用微信还是用支付宝？                [微信, 支付宝]\n",
      "29           卫生间装修，师傅安装地漏时做了个小改动，还说能靠墙又排水快            [装修, 卫生间, 地漏]\n"
     ]
    }
   ],
   "source": [
    "print(train_doc_keyword_df[['title', 'keyword_list']].head(30))\n",
    "\n"
   ]
  },
  {
   "cell_type": "code",
   "execution_count": 32,
   "metadata": {},
   "outputs": [
    {
     "name": "stdout",
     "output_type": "stream",
     "text": [
      "                                     jieba_title_list  \\\n",
      "0                [三生三世, 凤九, 东华, 最有, 夫妻, 一模一样, 动作, 证明]   \n",
      "1          [味集, 南宁, 美食, 圣地, 最强, 攻略, 南宁, 爱的味道, 汇集, 地方]   \n",
      "2                         [据说, 下酒, 凉菜, 北京人, 喜欢, 是这样吗]   \n",
      "3   [华为, 新机, P30pro, 曝光, 麒麟, 1020, 5G, 芯片, 网友, 小米,...   \n",
      "4                             [泰晤士河, 餐厅, 酒吧, 世界杯, 进来]   \n",
      "5      [看完, 真的, 有人, 烧烤, 拍成, 纪录片, 9.8, 高分, 市井, 烟火, 气太]   \n",
      "6           [杨颖, 跳高, 离地, 10, 公分, 众人, 无情, 嘲笑, 惠若琪, 干嘛]   \n",
      "7                   [我与你的光年距离2, 开机, 王以纶, 许晓诺, 纷纷, 亮相]   \n",
      "8                   [我国, 军用, 无人机, 美国, 差距, 多大, 出口, 总量]   \n",
      "9                      [喜欢, 一款, 别有, 风情, 欧美各国, 女兵, 剪影]   \n",
      "10                       [哑铃, 杠铃, 动作, 简单, 器械, 增肌, 入门]   \n",
      "11                   [艺术, 支教, 乡村, 儿童, 享受, 艺术, 带来, 快乐]   \n",
      "12            [低价, 外包, 外资, 抵触, 第三世界, 游戏, 产业, 依旧, 路漫漫]   \n",
      "13               [最合适, 宝宝, 水果蛋糕, 低糖, 低油, 营养, 手残党, 一学]   \n",
      "14                          [纪念品, 海报, 蒂尔, 斯文, 女儿, 合作]   \n",
      "15           [叙利亚, 彻底, 无奈, 说好, S300, 突然, 不卖, 俄罗斯, 反悔]   \n",
      "16                                  [王源, 最近, 魔咒, 时不时]   \n",
      "17                         [原因, 美国, 决定, 弃用, 战斧, 巡航导弹]   \n",
      "18  [AI, 翻译官, 黄子韬, 出席, 助阵, 全球, 首部, 翻译, 手机, 糖果, S20...   \n",
      "19            [新房, 年半, 天亮, 整理, 20, 装修, 实战经, 不足, 先见之明]   \n",
      "20           [夏天, 当属, 茄子, 下饭, 分享, 家常, 茄子, 做法, 简单, 容易]   \n",
      "21                    [倪光南, Wintel, 衰落, 国产, 替代, 切实可行]   \n",
      "22            [高血压, 能不能, 吃肉, 最新, 医学, 发现, 只要吃, 种肉, 没事]   \n",
      "23                                   [日常, 照片, 新鲜, 拍法]   \n",
      "24                          [扶摇, 楚乔传, 究竟, 相似, 看看, 明白]   \n",
      "25                 [秀场, AndrewGn, 时尚, 元素, 点亮, 日常, 穿搭]   \n",
      "26                                   [减肥, 按摩, 方法, 搞定]   \n",
      "27              [哈勒普, 小威, 回归, 网坛, 幸事, 心态, 成熟, 盼取, 佳绩]   \n",
      "28                  [微信, 支付, 免费, 时代, 终结, 继续, 微信, 支付宝]   \n",
      "29                  [卫生间, 装修, 师傅, 安装, 地漏, 改动, 靠墙, 排水]   \n",
      "\n",
      "                                     title  \n",
      "0           《三生三世》里凤九东华最有“夫妻相”，这一模一样的动作是证明  \n",
      "1         【味集】南宁美食圣地最强攻略！老南宁最爱的味道，都汇集在这些地方  \n",
      "2                   据说这些下酒凉菜，只有北京人喜欢，是这样吗？  \n",
      "3   华为新机皇P30pro曝光：麒麟1020＋5G芯片，网友：小米要拿什么来抵挡  \n",
      "4                   想在泰晤士河边餐厅酒吧看世界杯？戳进来就对啦  \n",
      "5    看完真的会饿!有人把【烧烤】拍成了纪录片,怒摘9.8高分,市井烟火气太浓~  \n",
      "6           杨颖跳高只离地10公分，被众人无情嘲笑，惠若琪：你打他牙干嘛  \n",
      "7                  《我与你的光年距离2》开机王以纶许晓诺纷纷亮相  \n",
      "8                我国军用无人机和美国差距多大？仅出口总量就差4倍多  \n",
      "9                     最喜欢哪一款：别有风情的欧美各国女兵剪影  \n",
      "10                    哑铃杠铃的4个动作，简单器械助你增肌入门  \n",
      "11               艺术支教进乡村:让每一个儿童都享受到艺术带来的快乐  \n",
      "12              低价外包、外资抵触——第三世界的游戏产业依旧长路漫漫  \n",
      "13           最合适宝宝吃的水果蛋糕，低糖低油高营养，手残党也能一学就会  \n",
      "14                   《纪念品》首曝海报蒂尔达·斯文顿与女儿合作  \n",
      "15           叙利亚彻底无奈：说好的S300突然不卖了？俄罗斯为何反悔？  \n",
      "16             王源最近是中了这个词的“魔咒”吗？时不时就······  \n",
      "17                   因为这个原因，美国决定弃用“战斧”巡航导弹  \n",
      "18        “AI翻译官”黄子韬出席助阵，全球首部翻译手机糖果S20将揭面纱  \n",
      "19        住新房1年半，死磕到天亮，整理出20条装修实战经：不足+先见之明  \n",
      "20           夏天，当属茄子最下饭了，分享8道家常茄子的做法，简单容易学  \n",
      "21                  倪光南：Wintel已衰落国产替代切实可行！  \n",
      "22              高血压能不能吃肉？最新医学发现，只要吃这3种肉就没事  \n",
      "23                          日常的照片有什么新鲜的拍法？  \n",
      "24              《扶摇》和《楚乔传》究竟有多相似看看这些你就明白了！  \n",
      "25          秀场篇-带你看AndrewGn秀，时尚元素帮你点亮日常穿搭！  \n",
      "26                           想减肥？3招按摩方法可搞定  \n",
      "27                  哈勒普：小威回归是网坛幸事心态已成熟盼取佳绩  \n",
      "28                  微信支付免费时代终结继续用微信还是用支付宝？  \n",
      "29           卫生间装修，师傅安装地漏时做了个小改动，还说能靠墙又排水快  \n"
     ]
    }
   ],
   "source": [
    "print(train_doc_keyword_df[['jieba_title_list', 'title']].head(30))\n",
    "\n"
   ]
  },
  {
   "cell_type": "code",
   "execution_count": null,
   "metadata": {
    "collapsed": true
   },
   "outputs": [],
   "source": []
  }
 ],
 "metadata": {
  "kernelspec": {
   "display_name": "Python 3",
   "language": "python",
   "name": "python3"
  },
  "language_info": {
   "codemirror_mode": {
    "name": "ipython",
    "version": 3
   },
   "file_extension": ".py",
   "mimetype": "text/x-python",
   "name": "python",
   "nbconvert_exporter": "python",
   "pygments_lexer": "ipython3",
   "version": "3.6.1"
  }
 },
 "nbformat": 4,
 "nbformat_minor": 2
}
