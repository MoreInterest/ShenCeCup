{
 "cells": [
  {
   "cell_type": "code",
   "execution_count": 1,
   "metadata": {
    "collapsed": true
   },
   "outputs": [],
   "source": [
    "import pandas as pd\n",
    "import numpy as np\n",
    "import datetime\n",
    "import math\n",
    "import jieba\n",
    "import jieba.posseg as psg\n",
    "from gensim import corpora, models\n",
    "from jieba import analyse\n",
    "import functools\n"
   ]
  },
  {
   "cell_type": "code",
   "execution_count": 2,
   "metadata": {},
   "outputs": [
    {
     "name": "stdout",
     "output_type": "stream",
     "text": [
      "<class 'pandas.core.frame.DataFrame'>\n",
      "RangeIndex: 108295 entries, 0 to 108294\n",
      "Data columns (total 3 columns):\n",
      "id       108295 non-null object\n",
      "title    108295 non-null object\n",
      "text     108295 non-null object\n",
      "dtypes: object(3)\n",
      "memory usage: 2.5+ MB\n",
      "None\n",
      "        id                title  \\\n",
      "0  D000001   林志颖老婆深夜敷面膜，睫毛太长好吓人   \n",
      "1  D000002   小s夸杨幂身材好，杨幂回复太精彩了！   \n",
      "2  D000003    年轻时的她风华绝代，现却无人送祝福   \n",
      "3  D000004   林心如屡曝霍建华私生活被怼蹭老公人气   \n",
      "4  D000005  曾是TVB颜值担当，近照曝光发现真老了   \n",
      "\n",
      "                                                text  \n",
      "0  早年林志颖带kimi上《爸爸去哪儿》的时候，当时遮遮掩掩的林志颖老婆低调探班，总让人觉得格外...  \n",
      "1  翩若惊鸿，婉若游龙。曹植形容洛神的这两句，实在太抽象，以至于始终寻不到承受对象。直到在《大军...  \n",
      "2  上个世纪香港影视界涌现出了不少高颜值女星，在《大话西游之月光宝盒》中饰演春三十娘和蜘蛛精的蓝...  \n",
      "3  霍建华林心如1905电影网讯近日，林心如在接受采访时爆料称老公霍建华会主动向女儿索吻，笑称他...  \n",
      "4  不知道有多少人是看TVB剧集长大的，小时候我每一天晚上都会守着电视看TVB剧集的。可以说对于...  \n"
     ]
    }
   ],
   "source": [
    "all_docs_df = pd.read_csv('../../data/chusai/all_docs.txt', sep='\\001', header=None)\n",
    "all_docs_df.columns = ['id', 'title', 'text']\n",
    "all_docs_df['title'] = all_docs_df['title'].astype(str)\n",
    "all_docs_df['text'] = all_docs_df['text'].astype(str)\n",
    "print(all_docs_df.info())\n",
    "print(all_docs_df.head())\n"
   ]
  },
  {
   "cell_type": "code",
   "execution_count": 4,
   "metadata": {},
   "outputs": [
    {
     "name": "stdout",
     "output_type": "stream",
     "text": [
      "        id                title  \\\n",
      "0  D000001   林志颖老婆深夜敷面膜，睫毛太长好吓人   \n",
      "1  D000002   小s夸杨幂身材好，杨幂回复太精彩了！   \n",
      "2  D000003    年轻时的她风华绝代，现却无人送祝福   \n",
      "3  D000004   林心如屡曝霍建华私生活被怼蹭老公人气   \n",
      "4  D000005  曾是TVB颜值担当，近照曝光发现真老了   \n",
      "\n",
      "                                                text  \\\n",
      "0  早年林志颖带kimi上《爸爸去哪儿》的时候，当时遮遮掩掩的林志颖老婆低调探班，总让人觉得格外...   \n",
      "1  翩若惊鸿，婉若游龙。曹植形容洛神的这两句，实在太抽象，以至于始终寻不到承受对象。直到在《大军...   \n",
      "2  上个世纪香港影视界涌现出了不少高颜值女星，在《大话西游之月光宝盒》中饰演春三十娘和蜘蛛精的蓝...   \n",
      "3  霍建华林心如1905电影网讯近日，林心如在接受采访时爆料称老公霍建华会主动向女儿索吻，笑称他...   \n",
      "4  不知道有多少人是看TVB剧集长大的，小时候我每一天晚上都会守着电视看TVB剧集的。可以说对于...   \n",
      "\n",
      "                      title_list  \\\n",
      "0  [林志颖, 老婆, 深夜, 面膜, 睫毛, 太长, 吓人]   \n",
      "1          [夸杨, 身材, 杨幂, 回复, 太精彩]   \n",
      "2            [年轻, 风华绝代, 无人, 送祝福]   \n",
      "3     [林心如, 曝霍, 建华, 私生活, 老公, 人气]   \n",
      "4     [TVB, 颜值, 担当, 照曝光, 发现, 真老]   \n",
      "\n",
      "                                          title_text  \n",
      "0  林志颖老婆深夜敷面膜，睫毛太长好吓人。早年林志颖带kimi上《爸爸去哪儿》的时候，当时遮遮掩...  \n",
      "1  小s夸杨幂身材好，杨幂回复太精彩了！。翩若惊鸿，婉若游龙。曹植形容洛神的这两句，实在太抽象，...  \n",
      "2  年轻时的她风华绝代，现却无人送祝福。上个世纪香港影视界涌现出了不少高颜值女星，在《大话西游之...  \n",
      "3  林心如屡曝霍建华私生活被怼蹭老公人气。霍建华林心如1905电影网讯近日，林心如在接受采访时爆...  \n",
      "4  曾是TVB颜值担当，近照曝光发现真老了。不知道有多少人是看TVB剧集长大的，小时候我每一天晚...  \n"
     ]
    }
   ],
   "source": [
    "all_docs_df['title_text'] = all_docs_df['title'] + '。' + all_docs_df['text']\n",
    "print(all_docs_df.head())\n"
   ]
  },
  {
   "cell_type": "code",
   "execution_count": 5,
   "metadata": {},
   "outputs": [
    {
     "name": "stdout",
     "output_type": "stream",
     "text": [
      "        id                title  \\\n",
      "0  D000001   林志颖老婆深夜敷面膜，睫毛太长好吓人   \n",
      "1  D000002   小s夸杨幂身材好，杨幂回复太精彩了！   \n",
      "2  D000003    年轻时的她风华绝代，现却无人送祝福   \n",
      "3  D000004   林心如屡曝霍建华私生活被怼蹭老公人气   \n",
      "4  D000005  曾是TVB颜值担当，近照曝光发现真老了   \n",
      "\n",
      "                                                text  \\\n",
      "0  早年林志颖带kimi上《爸爸去哪儿》的时候，当时遮遮掩掩的林志颖老婆低调探班，总让人觉得格外...   \n",
      "1  翩若惊鸿，婉若游龙。曹植形容洛神的这两句，实在太抽象，以至于始终寻不到承受对象。直到在《大军...   \n",
      "2  上个世纪香港影视界涌现出了不少高颜值女星，在《大话西游之月光宝盒》中饰演春三十娘和蜘蛛精的蓝...   \n",
      "3  霍建华林心如1905电影网讯近日，林心如在接受采访时爆料称老公霍建华会主动向女儿索吻，笑称他...   \n",
      "4  不知道有多少人是看TVB剧集长大的，小时候我每一天晚上都会守着电视看TVB剧集的。可以说对于...   \n",
      "\n",
      "                      title_list  \\\n",
      "0  [林志颖, 老婆, 深夜, 面膜, 睫毛, 太长, 吓人]   \n",
      "1          [夸杨, 身材, 杨幂, 回复, 太精彩]   \n",
      "2            [年轻, 风华绝代, 无人, 送祝福]   \n",
      "3     [林心如, 曝霍, 建华, 私生活, 老公, 人气]   \n",
      "4     [TVB, 颜值, 担当, 照曝光, 发现, 真老]   \n",
      "\n",
      "                                          title_text              keywords  \n",
      "0  林志颖老婆深夜敷面膜，睫毛太长好吓人。早年林志颖带kimi上《爸爸去哪儿》的时候，当时遮遮掩...  [面膜, 睫毛, 安利, 了解, 大家]  \n",
      "1  小s夸杨幂身材好，杨幂回复太精彩了！。翩若惊鸿，婉若游龙。曹植形容洛神的这两句，实在太抽象，...  [直到, 气度, 古典, 带有, 典型]  \n",
      "2  年轻时的她风华绝代，现却无人送祝福。上个世纪香港影视界涌现出了不少高颜值女星，在《大话西游之...  [选择, 希望, 生活, 人们, 香港]  \n",
      "3  林心如屡曝霍建华私生活被怼蹭老公人气。霍建华林心如1905电影网讯近日，林心如在接受采访时爆...  [粉丝, 女儿, 回应, 加上, 遭到]  \n",
      "4  曾是TVB颜值担当，近照曝光发现真老了。不知道有多少人是看TVB剧集长大的，小时候我每一天晚...  [观众, 觉得, 颜值, 剧集, 东西]  \n"
     ]
    }
   ],
   "source": [
    "#定义textrank函数\n",
    "def textrank_extract(text, pos=False, keyword_num=10):\n",
    "    textrank = analyse.textrank\n",
    "    keywords = textrank(text, keyword_num)\n",
    "    return keywords\n",
    "\n",
    "all_docs_df['keywords'] = all_docs_df['title_text'].map(lambda x: textrank_extract(x, False, 5))\n",
    "print(all_docs_df.head())\n"
   ]
  },
  {
   "cell_type": "code",
   "execution_count": 9,
   "metadata": {},
   "outputs": [
    {
     "name": "stdout",
     "output_type": "stream",
     "text": [
      "107295\n",
      "        id label1 label2                title  \\\n",
      "0  D000001     ÎÞ     ÎÞ   林志颖老婆深夜敷面膜，睫毛太长好吓人   \n",
      "1  D000002     ÎÞ     ÎÞ   小s夸杨幂身材好，杨幂回复太精彩了！   \n",
      "2  D000003     ÎÞ     ÎÞ    年轻时的她风华绝代，现却无人送祝福   \n",
      "3  D000004     ÎÞ     ÎÞ   林心如屡曝霍建华私生活被怼蹭老公人气   \n",
      "4  D000005     ÎÞ     ÎÞ  曾是TVB颜值担当，近照曝光发现真老了   \n",
      "\n",
      "                                                text  \\\n",
      "0  早年林志颖带kimi上《爸爸去哪儿》的时候，当时遮遮掩掩的林志颖老婆低调探班，总让人觉得格外...   \n",
      "1  翩若惊鸿，婉若游龙。曹植形容洛神的这两句，实在太抽象，以至于始终寻不到承受对象。直到在《大军...   \n",
      "2  上个世纪香港影视界涌现出了不少高颜值女星，在《大话西游之月光宝盒》中饰演春三十娘和蜘蛛精的蓝...   \n",
      "3  霍建华林心如1905电影网讯近日，林心如在接受采访时爆料称老公霍建华会主动向女儿索吻，笑称他...   \n",
      "4  不知道有多少人是看TVB剧集长大的，小时候我每一天晚上都会守着电视看TVB剧集的。可以说对于...   \n",
      "\n",
      "                      title_list  \\\n",
      "0  [林志颖, 老婆, 深夜, 面膜, 睫毛, 太长, 吓人]   \n",
      "1          [夸杨, 身材, 杨幂, 回复, 太精彩]   \n",
      "2            [年轻, 风华绝代, 无人, 送祝福]   \n",
      "3     [林心如, 曝霍, 建华, 私生活, 老公, 人气]   \n",
      "4     [TVB, 颜值, 担当, 照曝光, 发现, 真老]   \n",
      "\n",
      "                                          title_text              keywords  \n",
      "0  林志颖老婆深夜敷面膜，睫毛太长好吓人。早年林志颖带kimi上《爸爸去哪儿》的时候，当时遮遮掩...  [面膜, 睫毛, 安利, 了解, 大家]  \n",
      "1  小s夸杨幂身材好，杨幂回复太精彩了！。翩若惊鸿，婉若游龙。曹植形容洛神的这两句，实在太抽象，...  [直到, 气度, 古典, 带有, 典型]  \n",
      "2  年轻时的她风华绝代，现却无人送祝福。上个世纪香港影视界涌现出了不少高颜值女星，在《大话西游之...  [选择, 希望, 生活, 人们, 香港]  \n",
      "3  林心如屡曝霍建华私生活被怼蹭老公人气。霍建华林心如1905电影网讯近日，林心如在接受采访时爆...  [粉丝, 女儿, 回应, 加上, 遭到]  \n",
      "4  曾是TVB颜值担当，近照曝光发现真老了。不知道有多少人是看TVB剧集长大的，小时候我每一天晚...  [观众, 觉得, 颜值, 剧集, 东西]  \n"
     ]
    }
   ],
   "source": [
    "sample_df = pd.read_csv('../../result/chusai/sample.csv', encoding='ISO-8859-1')\n",
    "print(len(sample_df))\n",
    "sample_df = pd.merge(sample_df, all_docs_df, on='id', how='left')\n",
    "print(sample_df.head())\n"
   ]
  },
  {
   "cell_type": "code",
   "execution_count": 10,
   "metadata": {},
   "outputs": [
    {
     "name": "stdout",
     "output_type": "stream",
     "text": [
      "        id label1 label2                title  \\\n",
      "0  D000001     面膜     睫毛   林志颖老婆深夜敷面膜，睫毛太长好吓人   \n",
      "1  D000002     直到     气度   小s夸杨幂身材好，杨幂回复太精彩了！   \n",
      "2  D000003     选择     希望    年轻时的她风华绝代，现却无人送祝福   \n",
      "3  D000004     粉丝     女儿   林心如屡曝霍建华私生活被怼蹭老公人气   \n",
      "4  D000005     观众     觉得  曾是TVB颜值担当，近照曝光发现真老了   \n",
      "\n",
      "                                                text  \\\n",
      "0  早年林志颖带kimi上《爸爸去哪儿》的时候，当时遮遮掩掩的林志颖老婆低调探班，总让人觉得格外...   \n",
      "1  翩若惊鸿，婉若游龙。曹植形容洛神的这两句，实在太抽象，以至于始终寻不到承受对象。直到在《大军...   \n",
      "2  上个世纪香港影视界涌现出了不少高颜值女星，在《大话西游之月光宝盒》中饰演春三十娘和蜘蛛精的蓝...   \n",
      "3  霍建华林心如1905电影网讯近日，林心如在接受采访时爆料称老公霍建华会主动向女儿索吻，笑称他...   \n",
      "4  不知道有多少人是看TVB剧集长大的，小时候我每一天晚上都会守着电视看TVB剧集的。可以说对于...   \n",
      "\n",
      "                      title_list  \\\n",
      "0  [林志颖, 老婆, 深夜, 面膜, 睫毛, 太长, 吓人]   \n",
      "1          [夸杨, 身材, 杨幂, 回复, 太精彩]   \n",
      "2            [年轻, 风华绝代, 无人, 送祝福]   \n",
      "3     [林心如, 曝霍, 建华, 私生活, 老公, 人气]   \n",
      "4     [TVB, 颜值, 担当, 照曝光, 发现, 真老]   \n",
      "\n",
      "                                          title_text              keywords  \n",
      "0  林志颖老婆深夜敷面膜，睫毛太长好吓人。早年林志颖带kimi上《爸爸去哪儿》的时候，当时遮遮掩...  [面膜, 睫毛, 安利, 了解, 大家]  \n",
      "1  小s夸杨幂身材好，杨幂回复太精彩了！。翩若惊鸿，婉若游龙。曹植形容洛神的这两句，实在太抽象，...  [直到, 气度, 古典, 带有, 典型]  \n",
      "2  年轻时的她风华绝代，现却无人送祝福。上个世纪香港影视界涌现出了不少高颜值女星，在《大话西游之...  [选择, 希望, 生活, 人们, 香港]  \n",
      "3  林心如屡曝霍建华私生活被怼蹭老公人气。霍建华林心如1905电影网讯近日，林心如在接受采访时爆...  [粉丝, 女儿, 回应, 加上, 遭到]  \n",
      "4  曾是TVB颜值担当，近照曝光发现真老了。不知道有多少人是看TVB剧集长大的，小时候我每一天晚...  [观众, 觉得, 颜值, 剧集, 东西]  \n"
     ]
    }
   ],
   "source": [
    "def get_top_n_word(result_list, n):\n",
    "    if len(result_list) < n:\n",
    "        return '无'\n",
    "    else:\n",
    "        return result_list[n - 1]\n",
    "    \n",
    "sample_df['label1'] = sample_df['keywords'].map(lambda x: get_top_n_word(x, 1))\n",
    "sample_df['label2'] = sample_df['keywords'].map(lambda x: get_top_n_word(x, 2))\n",
    "print(sample_df.head())\n"
   ]
  },
  {
   "cell_type": "code",
   "execution_count": 11,
   "metadata": {
    "collapsed": true
   },
   "outputs": [],
   "source": [
    "# 导出预测结果\n",
    "def exportResult(df, fileName):\n",
    "    df.to_csv('../../result/chusai/%s.csv' % fileName, header=True, index=False)\n",
    "    \n",
    "exportResult(sample_df[['id', 'label1', 'label2']], 'textrank_baseline_9_3_3')\n"
   ]
  },
  {
   "cell_type": "code",
   "execution_count": null,
   "metadata": {
    "collapsed": true
   },
   "outputs": [],
   "source": []
  }
 ],
 "metadata": {
  "kernelspec": {
   "display_name": "Python 3",
   "language": "python",
   "name": "python3"
  },
  "language_info": {
   "codemirror_mode": {
    "name": "ipython",
    "version": 3
   },
   "file_extension": ".py",
   "mimetype": "text/x-python",
   "name": "python",
   "nbconvert_exporter": "python",
   "pygments_lexer": "ipython3",
   "version": "3.6.1"
  }
 },
 "nbformat": 4,
 "nbformat_minor": 2
}
